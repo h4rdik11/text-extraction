{
 "cells": [
  {
   "cell_type": "code",
   "execution_count": 5,
   "id": "75802b12-a308-4af4-9f0a-140bdeeb03c1",
   "metadata": {},
   "outputs": [
    {
     "name": "stderr",
     "output_type": "stream",
     "text": [
      "Some parameters are on the meta device because they were offloaded to the disk.\n"
     ]
    }
   ],
   "source": [
    "import torch\n",
    "from transformers import LlamaTokenizer, LlamaForCausalLM\n",
    "\n",
    "model_path = 'openlm-research/open_llama_3b'\n",
    "# model_path = 'openlm-research/open_llama_7b'\n",
    "# model_path = 'openlm-research/open_llama_13b'\n",
    "\n",
    "tokenizer = LlamaTokenizer.from_pretrained(model_path)\n",
    "model = LlamaForCausalLM.from_pretrained(\n",
    "    model_path, torch_dtype=torch.float16, device_map='auto', offload_folder=\"./weights\"\n",
    ")\n",
    "\n",
    "transcripts = \"\"\"\n",
    "Hey It's pretty good. How about you? \n",
    "I'm good. I'm good.\n",
    "Where are you from? Illinois\n",
    "I'm from New Delhi, India\n",
    "Interesting. Are you an undergrad student? \n",
    "No, I'm a grad student\n",
    "Yeah, FBU. Which Where are you from? \n",
    "What? Excuse me?\n",
    "What's your university? \n",
    "University of Illinois, Urbana, Champaign. \n",
    "Oh, okay. All right. Get it. So what are you doing over there?\n",
    "Studying psychology with a minor in biology. \n",
    "Minor in biology? \n",
    "Well, that's, that's a quite, I would say it's a post-apart situation right over there. It's still mad.\n",
    "It's like biology. That's that's a lot. Why did you choose biology with that?\n",
    "Because I'm interested in biology. Yeah, I just want to learn more.\n",
    "But it's because it's kind of hard. So I just want to have a minor. I don't want\n",
    "to be, I don't want it to be too much of burden. \n",
    "And do you have to go through all the genome structure and all? Is that a part of biology? \n",
    "Yeah. Yeah. Yeah.\n",
    "Yeah. What about you? I am a CIS major computer information systems. \n",
    "And I used to work as a software engineer before I've been working for five years.\n",
    "And yeah, now I'm here completing my masters. This is my second master's actually.\n",
    "Oh, what's your first master's of that? My master's was in computer applications.\n",
    "That was my major. \n",
    "Oh, good. \n",
    "Yeah. Now I'm trying to move into a more managerial stuff or more into data science, I'd say. \n",
    "Interesting.\n",
    "\"\"\""
   ]
  },
  {
   "cell_type": "code",
   "execution_count": 6,
   "id": "7850dec8-afbc-4d68-83ed-6e5798fa9880",
   "metadata": {},
   "outputs": [
    {
     "name": "stdout",
     "output_type": "stream",
     "text": [
      "<s>This is a transcript from two different speakers; Speaker 1 and Speaker 2. Classify the transcript for these users. \n",
      "\n",
      "Hey It's pretty good. How about you? \n",
      "I'm good. I'm good.\n",
      "Where are you from? Illinois\n",
      "I'm from New Delhi, India\n",
      "Interesting. Are you an undergrad student? \n",
      "No, I'm a grad student\n",
      "Yeah, FBU. Which Where are you from? \n",
      "What? Excuse me?\n",
      "What's your university? \n",
      "University of Illinois, Urbana, Champaign. \n",
      "Oh, okay. All right. Get it. So what are you doing over there?\n",
      "Studying psychology with a minor in biology. \n",
      "Minor in biology? \n",
      "Well, that's, that's a quite, I would say it's a post-apart situation right over there. It's still mad.\n",
      "It's like biology. That's that's a lot. Why did you choose biology with that?\n",
      "Because I'm interested in biology. Yeah, I just want to learn more.\n",
      "But it's because it's kind of hard. So I just want to have a minor. I don't want\n",
      "to be, I don't want it to be too much of burden. \n",
      "And do you have to go through all the genome structure and all? Is that a part of biology? \n",
      "Yeah. Yeah. Yeah.\n",
      "Yeah. What about you? I am a CIS major computer information systems. \n",
      "And I used to work as a software engineer before I've been working for five years.\n",
      "And yeah, now I'm here completing my masters. This is my second master's actually.\n",
      "Oh, what's your first master's of that? My master's was in computer applications.\n",
      "That was my major. \n",
      "Oh, good. \n",
      "Yeah. Now I'm trying to move into a more managerial stuff or more into data science, I'd say. \n",
      "Interesting.\n",
      "So what do you think about the data science? \n",
      "I think it's a very interesting field. I think it's a very interesting field.\n"
     ]
    }
   ],
   "source": [
    "prompt = 'This is a transcript from two different speakers; Speaker 1 and Speaker 2. Classify the transcript for these users. \\n' + transcripts\n",
    "input_ids = tokenizer(prompt, return_tensors=\"pt\").input_ids\n",
    "\n",
    "generation_output = model.generate(\n",
    "    input_ids=input_ids, max_new_tokens=32\n",
    ")\n",
    "print(tokenizer.decode(generation_output[0]))"
   ]
  }
 ],
 "metadata": {
  "kernelspec": {
   "display_name": "Python 3 (ipykernel)",
   "language": "python",
   "name": "python3"
  },
  "language_info": {
   "codemirror_mode": {
    "name": "ipython",
    "version": 3
   },
   "file_extension": ".py",
   "mimetype": "text/x-python",
   "name": "python",
   "nbconvert_exporter": "python",
   "pygments_lexer": "ipython3",
   "version": "3.12.7"
  }
 },
 "nbformat": 4,
 "nbformat_minor": 5
}
